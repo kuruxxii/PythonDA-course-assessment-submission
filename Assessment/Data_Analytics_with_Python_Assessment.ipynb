{
  "nbformat": 4,
  "nbformat_minor": 0,
  "metadata": {
    "colab": {
      "provenance": [],
      "collapsed_sections": [
        "jXkjbG86QL5G",
        "3ZF33AOoRP9Z",
        "M8GDnps-RR9q",
        "knNIuhCoSFNx",
        "osg640SM-ySa",
        "FpJ9_gGH_g9Z",
        "kydBDNX0AWbd",
        "z9mN8HDMCreb",
        "GnePX9mfC-6I",
        "uWZZN2JGDPoQ",
        "u6rhIsN6DzXO",
        "atghBU1UEFja",
        "SRu7LPAYEOjw",
        "ZT4ReqO1EWyJ"
      ],
      "include_colab_link": true
    },
    "kernelspec": {
      "name": "python3",
      "display_name": "Python 3"
    },
    "language_info": {
      "name": "python"
    }
  },
  "cells": [
    {
      "cell_type": "markdown",
      "metadata": {
        "id": "view-in-github",
        "colab_type": "text"
      },
      "source": [
        "<a href=\"https://colab.research.google.com/github/kuruxxii/PythonDA-course-assessment-submission/blob/main/Assessment/Data_Analytics_with_Python_Assessment.ipynb\" target=\"_parent\"><img src=\"https://colab.research.google.com/assets/colab-badge.svg\" alt=\"Open In Colab\"/></a>"
      ]
    },
    {
      "cell_type": "markdown",
      "source": [
        "# Introduction\n",
        "\n",
        "This assessment aims to evaluate your understanding and application of the concepts covered in the Data Analytics course. You will be tasked with analyzing a dataset related to remote work and mental health, utilizing various data manipulation, statistical analysis, and visualization techniques learned throughout the course. This exercise will help reinforce your skills in data handling, exploratory analysis, and drawing meaningful insights from data.\n",
        "\n",
        "### Submission Details:\n",
        "\n",
        "The deadline for submission is 16 November at 11:59 PM. Specific submission details will be shared with you shortly.\n",
        "\n",
        "### Passing Criteria:\n",
        "\n",
        "To successfully pass this assessment, you must achieve a score of 80% or higher.\n",
        "We encourage you to engage with the material and demonstrate your analytical skills. Good luck!\n",
        "\n",
        "\n",
        "---\n",
        "\n"
      ],
      "metadata": {
        "id": "ZofcnJAIJHaX"
      }
    },
    {
      "cell_type": "markdown",
      "source": [
        "# Section 1 - Beginner (25%)\n"
      ],
      "metadata": {
        "id": "t6EemGQaDLyU"
      }
    },
    {
      "cell_type": "markdown",
      "source": [
        "## Shopping Cart System with Discounts\n",
        "\n",
        "Write a Python program to simulate a shopping cart system for an online store. The program will calculate the total cost of items, apply discounts, and check if the total exceeds a specified budget."
      ],
      "metadata": {
        "id": "IEQXM5QADPRl"
      }
    },
    {
      "cell_type": "markdown",
      "source": [
        "1.\tVariables and Lists:\n",
        "  - Define a `budget` variable with an initial value of 200.\n",
        "  \n",
        "  - Create two empty lists called `item_names_list` and `item_prices_list` to store the name and price of each item separately."
      ],
      "metadata": {
        "id": "dKkPEPpCDyda"
      }
    },
    {
      "cell_type": "code",
      "execution_count": 12,
      "metadata": {
        "id": "4lXTHMaCC8VO"
      },
      "outputs": [],
      "source": [
        "# Write your code here\n",
        "budge = 200\n",
        "item_names_list = []\n",
        "item_prices_list = []"
      ]
    },
    {
      "cell_type": "markdown",
      "source": [
        "2. Functions:\n",
        "  - Write a function `add_item_to_cart(item_name, item_price)` that takes the item’s name and price as arguments, appends the name to item_names and the price to item_prices, and returns both updated lists.\n",
        "  \n",
        "  - Write a function `calculate_total(item_prices)` that calculates and returns the total cost of all items in item_prices.\n",
        "\n",
        "    Conditions:\n",
        "    - If the total cost exceeds the budget after adding an item, print \"Budget exceeded!\" and stop adding more items.\n",
        "    - If the total cost is within budget and exceeds $100, apply a 10% discount on the total and print the discounted total."
      ],
      "metadata": {
        "id": "wRAwexQhD0cq"
      }
    },
    {
      "cell_type": "code",
      "source": [
        "# Write your code here\n",
        "def add_item_to_cart(item_name, item_price):\n",
        "  item_names_list.append(item_name)\n",
        "  item_prices_list.append(item_price)\n",
        "  return item_names_list, item_prices_list\n",
        "\n",
        "def calculate_total(item_prices):\n",
        "  return sum(item_prices)"
      ],
      "metadata": {
        "id": "g_UiAVHSD3UK"
      },
      "execution_count": 13,
      "outputs": []
    },
    {
      "cell_type": "markdown",
      "source": [
        "3.\tLoop and Input:\n",
        "  - Start the input only once the user says 'start'\n",
        "  - Use a loop to allow the user to add items to the cart by entering an item name and price. The loop should stop when the user types 'done'.\n",
        "  - For each item, add it to item_names and item_prices using add_item_to_cart, then update the total cost using calculate_total.\n",
        "\n",
        "Output:\n",
        "  - After the loop ends, display the final cart with each item and its price, the initial total, any applicable discount, and the final total.\n"
      ],
      "metadata": {
        "id": "B22U5SdVEKeH"
      }
    },
    {
      "cell_type": "code",
      "source": [
        "# Write your code here\n",
        "def manage_cart():\n",
        "    print(\"Type 'start' to begin adding items to your cart.\")\n",
        "    user_input = input(\"> \").lower()\n",
        "\n",
        "    # Wait for the user to type 'start'\n",
        "    while user_input != 'start':\n",
        "        print(\"Please type 'start' to begin.\")\n",
        "        user_input = input(\"> \").lower()\n",
        "\n",
        "    # Begin the item entry loop\n",
        "    budget = 200  # Define the budget\n",
        "    while True:\n",
        "        item_name = input(\"Enter the item name (or 'done' to stop): \").strip()\n",
        "        if item_name.lower() == 'done':\n",
        "            break\n",
        "\n",
        "        try:\n",
        "            item_price = float(input(f\"Enter the price for {item_name}: \"))\n",
        "        except ValueError:\n",
        "            print(\"Invalid price. Please enter a valid number.\")\n",
        "            continue\n",
        "\n",
        "        # Add the item and update the total\n",
        "        add_item_to_cart(item_name, item_price)\n",
        "        total_cost = calculate_total(item_prices_list)\n",
        "\n",
        "        # Print the current total\n",
        "        print(f\"Item added. Current total: ${total_cost:.2f}\")\n",
        "\n",
        "        # Check if budget is exceeded\n",
        "        if total_cost > budget:\n",
        "            print(\"Budget exceeded! No more items can be added.\")\n",
        "            break\n",
        "\n",
        "    # Calculate the final total and apply discount if applicable\n",
        "    initial_total = calculate_total(item_prices_list)\n",
        "    if initial_total > 100:\n",
        "        final_total = initial_total * 0.9  # Apply 10% discount\n",
        "        discount = initial_total - final_total\n",
        "    else:\n",
        "        final_total = initial_total\n",
        "        discount = 0\n",
        "\n",
        "    # Display the final cart details\n",
        "    print(\"\\nFinal Cart Details:\")\n",
        "    print(\"{:<15} {:<10}\".format(\"Item\", \"Price\"))\n",
        "    print(\"-\" * 25)\n",
        "    for name, price in zip(item_names_list, item_prices_list):\n",
        "        print(\"{:<15} ${:<10.2f}\".format(name, price))\n",
        "    print(\"-\" * 25)\n",
        "    print(f\"Initial Total: ${initial_total:.2f}\")\n",
        "    if discount > 0:\n",
        "        print(f\"Discount: -${discount:.2f}\")\n",
        "    print(f\"Final Total: ${final_total:.2f}\")\n",
        "\n",
        "# Run the cart management\n",
        "manage_cart()"
      ],
      "metadata": {
        "id": "CJtjsE8YD6Mv",
        "outputId": "7e3c0c7f-5f7f-424f-e733-5c9e7cbf4689",
        "colab": {
          "base_uri": "https://localhost:8080/"
        }
      },
      "execution_count": 14,
      "outputs": [
        {
          "output_type": "stream",
          "name": "stdout",
          "text": [
            "Type 'start' to begin adding items to your cart.\n",
            "> start\n",
            "Enter the item name (or 'done' to stop): book\n",
            "Enter the price for book: 100\n",
            "Item added. Current total: $100.00\n",
            "Enter the item name (or 'done' to stop): drink\n",
            "Enter the price for drink: 50\n",
            "Item added. Current total: $150.00\n",
            "Enter the item name (or 'done' to stop): car\n",
            "Enter the price for car: 60\n",
            "Item added. Current total: $210.00\n",
            "Budget exceeded! No more items can be added.\n",
            "\n",
            "Final Cart Details:\n",
            "Item            Price     \n",
            "-------------------------\n",
            "book            $100.00    \n",
            "drink           $50.00     \n",
            "car             $60.00     \n",
            "-------------------------\n",
            "Initial Total: $210.00\n",
            "Discount: -$21.00\n",
            "Final Total: $189.00\n"
          ]
        }
      ]
    },
    {
      "cell_type": "markdown",
      "source": [
        "# Section 2 - Intermidiate (55%) - Remote Work and Mental Health Analysis\n",
        "\n",
        "Dataset source: Kaggle (https://www.kaggle.com/datasets/waqi786/remote-work-and-mental-health)\n",
        "\n",
        "\n"
      ],
      "metadata": {
        "id": "jXkjbG86QL5G"
      }
    },
    {
      "cell_type": "markdown",
      "source": [
        "## Objective:\n",
        "- In the following sections, you will explore the \"Remote Work and Mental Health\" dataset using Python and different data science libraries such as Pandas, NumPy and Matplotlib.\n",
        "- Follow the instructions below to complete each task. Please provide code for each question and any observations as comments when necessary."
      ],
      "metadata": {
        "id": "3ZF33AOoRP9Z"
      }
    },
    {
      "cell_type": "code",
      "source": [
        "# Import necessary modules and libraries\n",
        "import pandas as pd"
      ],
      "metadata": {
        "id": "zX8_bEfKSGcB"
      },
      "execution_count": 15,
      "outputs": []
    },
    {
      "cell_type": "markdown",
      "source": [
        "## 1. Load Dataset (2 marks)\n",
        "- Instructions: Load the dataset using Pandas and display few rows.\n",
        "- Question: Describe the overall structure (rows, columns, data types) as a comment at the end of your code.\n"
      ],
      "metadata": {
        "id": "M8GDnps-RR9q"
      }
    },
    {
      "cell_type": "code",
      "source": [
        "# Write code here\n",
        "df = pd.read_csv('Impact_of_Remote_Work_on_Mental_Health.csv')\n",
        "\n",
        "print(\"First few rows of the dataframe:\\n\")\n",
        "head_rows = df.head()\n",
        "head_rows"
      ],
      "metadata": {
        "id": "iN_Ne4xKSE_g",
        "outputId": "b78f44e1-25a8-464e-a664-c6f71e2a7233",
        "colab": {
          "base_uri": "https://localhost:8080/",
          "height": 349
        }
      },
      "execution_count": 16,
      "outputs": [
        {
          "output_type": "stream",
          "name": "stdout",
          "text": [
            "First few rows of the dataframe:\n",
            "\n"
          ]
        },
        {
          "output_type": "execute_result",
          "data": {
            "text/plain": [
              "  Employee_ID  Age      Gender           Job_Role    Industry  \\\n",
              "0     EMP0001   32  Non-binary                 HR  Healthcare   \n",
              "1     EMP0002   40      Female     Data Scientist          IT   \n",
              "2     EMP0003   59  Non-binary  Software Engineer   Education   \n",
              "3     EMP0004   27        Male  Software Engineer     Finance   \n",
              "4     EMP0005   49        Male              Sales  Consulting   \n",
              "\n",
              "   Years_of_Experience Work_Location  Hours_Worked_Per_Week  \\\n",
              "0                   13        Hybrid                     47   \n",
              "1                    3        Remote                     52   \n",
              "2                   22        Hybrid                     46   \n",
              "3                   20        Onsite                     32   \n",
              "4                   32        Onsite                     35   \n",
              "\n",
              "   Number_of_Virtual_Meetings  Work_Life_Balance_Rating Stress_Level  \\\n",
              "0                           7                         2       Medium   \n",
              "1                           4                         1       Medium   \n",
              "2                          11                         5       Medium   \n",
              "3                           8                         4         High   \n",
              "4                          12                         2         High   \n",
              "\n",
              "  Mental_Health_Condition Access_to_Mental_Health_Resources  \\\n",
              "0              Depression                                No   \n",
              "1                 Anxiety                                No   \n",
              "2                 Anxiety                                No   \n",
              "3              Depression                               Yes   \n",
              "4                     NaN                               Yes   \n",
              "\n",
              "  Productivity_Change  Social_Isolation_Rating Satisfaction_with_Remote_Work  \\\n",
              "0            Decrease                        1                   Unsatisfied   \n",
              "1            Increase                        3                     Satisfied   \n",
              "2           No Change                        4                   Unsatisfied   \n",
              "3            Increase                        3                   Unsatisfied   \n",
              "4            Decrease                        3                   Unsatisfied   \n",
              "\n",
              "   Company_Support_for_Remote_Work Physical_Activity Sleep_Quality  \\\n",
              "0                                1            Weekly          Good   \n",
              "1                                2            Weekly          Good   \n",
              "2                                5               NaN          Poor   \n",
              "3                                3               NaN          Poor   \n",
              "4                                3            Weekly       Average   \n",
              "\n",
              "          Region  \n",
              "0         Europe  \n",
              "1           Asia  \n",
              "2  North America  \n",
              "3         Europe  \n",
              "4  North America  "
            ],
            "text/html": [
              "\n",
              "  <div id=\"df-baf6b5d2-bee5-4a50-9fdc-32ca5ddf79d3\" class=\"colab-df-container\">\n",
              "    <div>\n",
              "<style scoped>\n",
              "    .dataframe tbody tr th:only-of-type {\n",
              "        vertical-align: middle;\n",
              "    }\n",
              "\n",
              "    .dataframe tbody tr th {\n",
              "        vertical-align: top;\n",
              "    }\n",
              "\n",
              "    .dataframe thead th {\n",
              "        text-align: right;\n",
              "    }\n",
              "</style>\n",
              "<table border=\"1\" class=\"dataframe\">\n",
              "  <thead>\n",
              "    <tr style=\"text-align: right;\">\n",
              "      <th></th>\n",
              "      <th>Employee_ID</th>\n",
              "      <th>Age</th>\n",
              "      <th>Gender</th>\n",
              "      <th>Job_Role</th>\n",
              "      <th>Industry</th>\n",
              "      <th>Years_of_Experience</th>\n",
              "      <th>Work_Location</th>\n",
              "      <th>Hours_Worked_Per_Week</th>\n",
              "      <th>Number_of_Virtual_Meetings</th>\n",
              "      <th>Work_Life_Balance_Rating</th>\n",
              "      <th>Stress_Level</th>\n",
              "      <th>Mental_Health_Condition</th>\n",
              "      <th>Access_to_Mental_Health_Resources</th>\n",
              "      <th>Productivity_Change</th>\n",
              "      <th>Social_Isolation_Rating</th>\n",
              "      <th>Satisfaction_with_Remote_Work</th>\n",
              "      <th>Company_Support_for_Remote_Work</th>\n",
              "      <th>Physical_Activity</th>\n",
              "      <th>Sleep_Quality</th>\n",
              "      <th>Region</th>\n",
              "    </tr>\n",
              "  </thead>\n",
              "  <tbody>\n",
              "    <tr>\n",
              "      <th>0</th>\n",
              "      <td>EMP0001</td>\n",
              "      <td>32</td>\n",
              "      <td>Non-binary</td>\n",
              "      <td>HR</td>\n",
              "      <td>Healthcare</td>\n",
              "      <td>13</td>\n",
              "      <td>Hybrid</td>\n",
              "      <td>47</td>\n",
              "      <td>7</td>\n",
              "      <td>2</td>\n",
              "      <td>Medium</td>\n",
              "      <td>Depression</td>\n",
              "      <td>No</td>\n",
              "      <td>Decrease</td>\n",
              "      <td>1</td>\n",
              "      <td>Unsatisfied</td>\n",
              "      <td>1</td>\n",
              "      <td>Weekly</td>\n",
              "      <td>Good</td>\n",
              "      <td>Europe</td>\n",
              "    </tr>\n",
              "    <tr>\n",
              "      <th>1</th>\n",
              "      <td>EMP0002</td>\n",
              "      <td>40</td>\n",
              "      <td>Female</td>\n",
              "      <td>Data Scientist</td>\n",
              "      <td>IT</td>\n",
              "      <td>3</td>\n",
              "      <td>Remote</td>\n",
              "      <td>52</td>\n",
              "      <td>4</td>\n",
              "      <td>1</td>\n",
              "      <td>Medium</td>\n",
              "      <td>Anxiety</td>\n",
              "      <td>No</td>\n",
              "      <td>Increase</td>\n",
              "      <td>3</td>\n",
              "      <td>Satisfied</td>\n",
              "      <td>2</td>\n",
              "      <td>Weekly</td>\n",
              "      <td>Good</td>\n",
              "      <td>Asia</td>\n",
              "    </tr>\n",
              "    <tr>\n",
              "      <th>2</th>\n",
              "      <td>EMP0003</td>\n",
              "      <td>59</td>\n",
              "      <td>Non-binary</td>\n",
              "      <td>Software Engineer</td>\n",
              "      <td>Education</td>\n",
              "      <td>22</td>\n",
              "      <td>Hybrid</td>\n",
              "      <td>46</td>\n",
              "      <td>11</td>\n",
              "      <td>5</td>\n",
              "      <td>Medium</td>\n",
              "      <td>Anxiety</td>\n",
              "      <td>No</td>\n",
              "      <td>No Change</td>\n",
              "      <td>4</td>\n",
              "      <td>Unsatisfied</td>\n",
              "      <td>5</td>\n",
              "      <td>NaN</td>\n",
              "      <td>Poor</td>\n",
              "      <td>North America</td>\n",
              "    </tr>\n",
              "    <tr>\n",
              "      <th>3</th>\n",
              "      <td>EMP0004</td>\n",
              "      <td>27</td>\n",
              "      <td>Male</td>\n",
              "      <td>Software Engineer</td>\n",
              "      <td>Finance</td>\n",
              "      <td>20</td>\n",
              "      <td>Onsite</td>\n",
              "      <td>32</td>\n",
              "      <td>8</td>\n",
              "      <td>4</td>\n",
              "      <td>High</td>\n",
              "      <td>Depression</td>\n",
              "      <td>Yes</td>\n",
              "      <td>Increase</td>\n",
              "      <td>3</td>\n",
              "      <td>Unsatisfied</td>\n",
              "      <td>3</td>\n",
              "      <td>NaN</td>\n",
              "      <td>Poor</td>\n",
              "      <td>Europe</td>\n",
              "    </tr>\n",
              "    <tr>\n",
              "      <th>4</th>\n",
              "      <td>EMP0005</td>\n",
              "      <td>49</td>\n",
              "      <td>Male</td>\n",
              "      <td>Sales</td>\n",
              "      <td>Consulting</td>\n",
              "      <td>32</td>\n",
              "      <td>Onsite</td>\n",
              "      <td>35</td>\n",
              "      <td>12</td>\n",
              "      <td>2</td>\n",
              "      <td>High</td>\n",
              "      <td>NaN</td>\n",
              "      <td>Yes</td>\n",
              "      <td>Decrease</td>\n",
              "      <td>3</td>\n",
              "      <td>Unsatisfied</td>\n",
              "      <td>3</td>\n",
              "      <td>Weekly</td>\n",
              "      <td>Average</td>\n",
              "      <td>North America</td>\n",
              "    </tr>\n",
              "  </tbody>\n",
              "</table>\n",
              "</div>\n",
              "    <div class=\"colab-df-buttons\">\n",
              "\n",
              "  <div class=\"colab-df-container\">\n",
              "    <button class=\"colab-df-convert\" onclick=\"convertToInteractive('df-baf6b5d2-bee5-4a50-9fdc-32ca5ddf79d3')\"\n",
              "            title=\"Convert this dataframe to an interactive table.\"\n",
              "            style=\"display:none;\">\n",
              "\n",
              "  <svg xmlns=\"http://www.w3.org/2000/svg\" height=\"24px\" viewBox=\"0 -960 960 960\">\n",
              "    <path d=\"M120-120v-720h720v720H120Zm60-500h600v-160H180v160Zm220 220h160v-160H400v160Zm0 220h160v-160H400v160ZM180-400h160v-160H180v160Zm440 0h160v-160H620v160ZM180-180h160v-160H180v160Zm440 0h160v-160H620v160Z\"/>\n",
              "  </svg>\n",
              "    </button>\n",
              "\n",
              "  <style>\n",
              "    .colab-df-container {\n",
              "      display:flex;\n",
              "      gap: 12px;\n",
              "    }\n",
              "\n",
              "    .colab-df-convert {\n",
              "      background-color: #E8F0FE;\n",
              "      border: none;\n",
              "      border-radius: 50%;\n",
              "      cursor: pointer;\n",
              "      display: none;\n",
              "      fill: #1967D2;\n",
              "      height: 32px;\n",
              "      padding: 0 0 0 0;\n",
              "      width: 32px;\n",
              "    }\n",
              "\n",
              "    .colab-df-convert:hover {\n",
              "      background-color: #E2EBFA;\n",
              "      box-shadow: 0px 1px 2px rgba(60, 64, 67, 0.3), 0px 1px 3px 1px rgba(60, 64, 67, 0.15);\n",
              "      fill: #174EA6;\n",
              "    }\n",
              "\n",
              "    .colab-df-buttons div {\n",
              "      margin-bottom: 4px;\n",
              "    }\n",
              "\n",
              "    [theme=dark] .colab-df-convert {\n",
              "      background-color: #3B4455;\n",
              "      fill: #D2E3FC;\n",
              "    }\n",
              "\n",
              "    [theme=dark] .colab-df-convert:hover {\n",
              "      background-color: #434B5C;\n",
              "      box-shadow: 0px 1px 3px 1px rgba(0, 0, 0, 0.15);\n",
              "      filter: drop-shadow(0px 1px 2px rgba(0, 0, 0, 0.3));\n",
              "      fill: #FFFFFF;\n",
              "    }\n",
              "  </style>\n",
              "\n",
              "    <script>\n",
              "      const buttonEl =\n",
              "        document.querySelector('#df-baf6b5d2-bee5-4a50-9fdc-32ca5ddf79d3 button.colab-df-convert');\n",
              "      buttonEl.style.display =\n",
              "        google.colab.kernel.accessAllowed ? 'block' : 'none';\n",
              "\n",
              "      async function convertToInteractive(key) {\n",
              "        const element = document.querySelector('#df-baf6b5d2-bee5-4a50-9fdc-32ca5ddf79d3');\n",
              "        const dataTable =\n",
              "          await google.colab.kernel.invokeFunction('convertToInteractive',\n",
              "                                                    [key], {});\n",
              "        if (!dataTable) return;\n",
              "\n",
              "        const docLinkHtml = 'Like what you see? Visit the ' +\n",
              "          '<a target=\"_blank\" href=https://colab.research.google.com/notebooks/data_table.ipynb>data table notebook</a>'\n",
              "          + ' to learn more about interactive tables.';\n",
              "        element.innerHTML = '';\n",
              "        dataTable['output_type'] = 'display_data';\n",
              "        await google.colab.output.renderOutput(dataTable, element);\n",
              "        const docLink = document.createElement('div');\n",
              "        docLink.innerHTML = docLinkHtml;\n",
              "        element.appendChild(docLink);\n",
              "      }\n",
              "    </script>\n",
              "  </div>\n",
              "\n",
              "\n",
              "<div id=\"df-2ed31252-d9c3-46a2-a6fe-a6fb17f65e4e\">\n",
              "  <button class=\"colab-df-quickchart\" onclick=\"quickchart('df-2ed31252-d9c3-46a2-a6fe-a6fb17f65e4e')\"\n",
              "            title=\"Suggest charts\"\n",
              "            style=\"display:none;\">\n",
              "\n",
              "<svg xmlns=\"http://www.w3.org/2000/svg\" height=\"24px\"viewBox=\"0 0 24 24\"\n",
              "     width=\"24px\">\n",
              "    <g>\n",
              "        <path d=\"M19 3H5c-1.1 0-2 .9-2 2v14c0 1.1.9 2 2 2h14c1.1 0 2-.9 2-2V5c0-1.1-.9-2-2-2zM9 17H7v-7h2v7zm4 0h-2V7h2v10zm4 0h-2v-4h2v4z\"/>\n",
              "    </g>\n",
              "</svg>\n",
              "  </button>\n",
              "\n",
              "<style>\n",
              "  .colab-df-quickchart {\n",
              "      --bg-color: #E8F0FE;\n",
              "      --fill-color: #1967D2;\n",
              "      --hover-bg-color: #E2EBFA;\n",
              "      --hover-fill-color: #174EA6;\n",
              "      --disabled-fill-color: #AAA;\n",
              "      --disabled-bg-color: #DDD;\n",
              "  }\n",
              "\n",
              "  [theme=dark] .colab-df-quickchart {\n",
              "      --bg-color: #3B4455;\n",
              "      --fill-color: #D2E3FC;\n",
              "      --hover-bg-color: #434B5C;\n",
              "      --hover-fill-color: #FFFFFF;\n",
              "      --disabled-bg-color: #3B4455;\n",
              "      --disabled-fill-color: #666;\n",
              "  }\n",
              "\n",
              "  .colab-df-quickchart {\n",
              "    background-color: var(--bg-color);\n",
              "    border: none;\n",
              "    border-radius: 50%;\n",
              "    cursor: pointer;\n",
              "    display: none;\n",
              "    fill: var(--fill-color);\n",
              "    height: 32px;\n",
              "    padding: 0;\n",
              "    width: 32px;\n",
              "  }\n",
              "\n",
              "  .colab-df-quickchart:hover {\n",
              "    background-color: var(--hover-bg-color);\n",
              "    box-shadow: 0 1px 2px rgba(60, 64, 67, 0.3), 0 1px 3px 1px rgba(60, 64, 67, 0.15);\n",
              "    fill: var(--button-hover-fill-color);\n",
              "  }\n",
              "\n",
              "  .colab-df-quickchart-complete:disabled,\n",
              "  .colab-df-quickchart-complete:disabled:hover {\n",
              "    background-color: var(--disabled-bg-color);\n",
              "    fill: var(--disabled-fill-color);\n",
              "    box-shadow: none;\n",
              "  }\n",
              "\n",
              "  .colab-df-spinner {\n",
              "    border: 2px solid var(--fill-color);\n",
              "    border-color: transparent;\n",
              "    border-bottom-color: var(--fill-color);\n",
              "    animation:\n",
              "      spin 1s steps(1) infinite;\n",
              "  }\n",
              "\n",
              "  @keyframes spin {\n",
              "    0% {\n",
              "      border-color: transparent;\n",
              "      border-bottom-color: var(--fill-color);\n",
              "      border-left-color: var(--fill-color);\n",
              "    }\n",
              "    20% {\n",
              "      border-color: transparent;\n",
              "      border-left-color: var(--fill-color);\n",
              "      border-top-color: var(--fill-color);\n",
              "    }\n",
              "    30% {\n",
              "      border-color: transparent;\n",
              "      border-left-color: var(--fill-color);\n",
              "      border-top-color: var(--fill-color);\n",
              "      border-right-color: var(--fill-color);\n",
              "    }\n",
              "    40% {\n",
              "      border-color: transparent;\n",
              "      border-right-color: var(--fill-color);\n",
              "      border-top-color: var(--fill-color);\n",
              "    }\n",
              "    60% {\n",
              "      border-color: transparent;\n",
              "      border-right-color: var(--fill-color);\n",
              "    }\n",
              "    80% {\n",
              "      border-color: transparent;\n",
              "      border-right-color: var(--fill-color);\n",
              "      border-bottom-color: var(--fill-color);\n",
              "    }\n",
              "    90% {\n",
              "      border-color: transparent;\n",
              "      border-bottom-color: var(--fill-color);\n",
              "    }\n",
              "  }\n",
              "</style>\n",
              "\n",
              "  <script>\n",
              "    async function quickchart(key) {\n",
              "      const quickchartButtonEl =\n",
              "        document.querySelector('#' + key + ' button');\n",
              "      quickchartButtonEl.disabled = true;  // To prevent multiple clicks.\n",
              "      quickchartButtonEl.classList.add('colab-df-spinner');\n",
              "      try {\n",
              "        const charts = await google.colab.kernel.invokeFunction(\n",
              "            'suggestCharts', [key], {});\n",
              "      } catch (error) {\n",
              "        console.error('Error during call to suggestCharts:', error);\n",
              "      }\n",
              "      quickchartButtonEl.classList.remove('colab-df-spinner');\n",
              "      quickchartButtonEl.classList.add('colab-df-quickchart-complete');\n",
              "    }\n",
              "    (() => {\n",
              "      let quickchartButtonEl =\n",
              "        document.querySelector('#df-2ed31252-d9c3-46a2-a6fe-a6fb17f65e4e button');\n",
              "      quickchartButtonEl.style.display =\n",
              "        google.colab.kernel.accessAllowed ? 'block' : 'none';\n",
              "    })();\n",
              "  </script>\n",
              "</div>\n",
              "\n",
              "  <div id=\"id_05d83d2d-8d01-445d-ae84-732f1519447b\">\n",
              "    <style>\n",
              "      .colab-df-generate {\n",
              "        background-color: #E8F0FE;\n",
              "        border: none;\n",
              "        border-radius: 50%;\n",
              "        cursor: pointer;\n",
              "        display: none;\n",
              "        fill: #1967D2;\n",
              "        height: 32px;\n",
              "        padding: 0 0 0 0;\n",
              "        width: 32px;\n",
              "      }\n",
              "\n",
              "      .colab-df-generate:hover {\n",
              "        background-color: #E2EBFA;\n",
              "        box-shadow: 0px 1px 2px rgba(60, 64, 67, 0.3), 0px 1px 3px 1px rgba(60, 64, 67, 0.15);\n",
              "        fill: #174EA6;\n",
              "      }\n",
              "\n",
              "      [theme=dark] .colab-df-generate {\n",
              "        background-color: #3B4455;\n",
              "        fill: #D2E3FC;\n",
              "      }\n",
              "\n",
              "      [theme=dark] .colab-df-generate:hover {\n",
              "        background-color: #434B5C;\n",
              "        box-shadow: 0px 1px 3px 1px rgba(0, 0, 0, 0.15);\n",
              "        filter: drop-shadow(0px 1px 2px rgba(0, 0, 0, 0.3));\n",
              "        fill: #FFFFFF;\n",
              "      }\n",
              "    </style>\n",
              "    <button class=\"colab-df-generate\" onclick=\"generateWithVariable('head_rows')\"\n",
              "            title=\"Generate code using this dataframe.\"\n",
              "            style=\"display:none;\">\n",
              "\n",
              "  <svg xmlns=\"http://www.w3.org/2000/svg\" height=\"24px\"viewBox=\"0 0 24 24\"\n",
              "       width=\"24px\">\n",
              "    <path d=\"M7,19H8.4L18.45,9,17,7.55,7,17.6ZM5,21V16.75L18.45,3.32a2,2,0,0,1,2.83,0l1.4,1.43a1.91,1.91,0,0,1,.58,1.4,1.91,1.91,0,0,1-.58,1.4L9.25,21ZM18.45,9,17,7.55Zm-12,3A5.31,5.31,0,0,0,4.9,8.1,5.31,5.31,0,0,0,1,6.5,5.31,5.31,0,0,0,4.9,4.9,5.31,5.31,0,0,0,6.5,1,5.31,5.31,0,0,0,8.1,4.9,5.31,5.31,0,0,0,12,6.5,5.46,5.46,0,0,0,6.5,12Z\"/>\n",
              "  </svg>\n",
              "    </button>\n",
              "    <script>\n",
              "      (() => {\n",
              "      const buttonEl =\n",
              "        document.querySelector('#id_05d83d2d-8d01-445d-ae84-732f1519447b button.colab-df-generate');\n",
              "      buttonEl.style.display =\n",
              "        google.colab.kernel.accessAllowed ? 'block' : 'none';\n",
              "\n",
              "      buttonEl.onclick = () => {\n",
              "        google.colab.notebook.generateWithVariable('head_rows');\n",
              "      }\n",
              "      })();\n",
              "    </script>\n",
              "  </div>\n",
              "\n",
              "    </div>\n",
              "  </div>\n"
            ],
            "application/vnd.google.colaboratory.intrinsic+json": {
              "type": "dataframe",
              "variable_name": "head_rows",
              "summary": "{\n  \"name\": \"head_rows\",\n  \"rows\": 5,\n  \"fields\": [\n    {\n      \"column\": \"Employee_ID\",\n      \"properties\": {\n        \"dtype\": \"string\",\n        \"num_unique_values\": 5,\n        \"samples\": [\n          \"EMP0002\",\n          \"EMP0005\",\n          \"EMP0003\"\n        ],\n        \"semantic_type\": \"\",\n        \"description\": \"\"\n      }\n    },\n    {\n      \"column\": \"Age\",\n      \"properties\": {\n        \"dtype\": \"number\",\n        \"std\": 12,\n        \"min\": 27,\n        \"max\": 59,\n        \"num_unique_values\": 5,\n        \"samples\": [\n          40,\n          49,\n          59\n        ],\n        \"semantic_type\": \"\",\n        \"description\": \"\"\n      }\n    },\n    {\n      \"column\": \"Gender\",\n      \"properties\": {\n        \"dtype\": \"string\",\n        \"num_unique_values\": 3,\n        \"samples\": [\n          \"Non-binary\",\n          \"Female\",\n          \"Male\"\n        ],\n        \"semantic_type\": \"\",\n        \"description\": \"\"\n      }\n    },\n    {\n      \"column\": \"Job_Role\",\n      \"properties\": {\n        \"dtype\": \"string\",\n        \"num_unique_values\": 4,\n        \"samples\": [\n          \"Data Scientist\",\n          \"Sales\",\n          \"HR\"\n        ],\n        \"semantic_type\": \"\",\n        \"description\": \"\"\n      }\n    },\n    {\n      \"column\": \"Industry\",\n      \"properties\": {\n        \"dtype\": \"string\",\n        \"num_unique_values\": 5,\n        \"samples\": [\n          \"IT\",\n          \"Consulting\",\n          \"Education\"\n        ],\n        \"semantic_type\": \"\",\n        \"description\": \"\"\n      }\n    },\n    {\n      \"column\": \"Years_of_Experience\",\n      \"properties\": {\n        \"dtype\": \"number\",\n        \"std\": 10,\n        \"min\": 3,\n        \"max\": 32,\n        \"num_unique_values\": 5,\n        \"samples\": [\n          3,\n          32,\n          22\n        ],\n        \"semantic_type\": \"\",\n        \"description\": \"\"\n      }\n    },\n    {\n      \"column\": \"Work_Location\",\n      \"properties\": {\n        \"dtype\": \"string\",\n        \"num_unique_values\": 3,\n        \"samples\": [\n          \"Hybrid\",\n          \"Remote\",\n          \"Onsite\"\n        ],\n        \"semantic_type\": \"\",\n        \"description\": \"\"\n      }\n    },\n    {\n      \"column\": \"Hours_Worked_Per_Week\",\n      \"properties\": {\n        \"dtype\": \"number\",\n        \"std\": 8,\n        \"min\": 32,\n        \"max\": 52,\n        \"num_unique_values\": 5,\n        \"samples\": [\n          52,\n          35,\n          46\n        ],\n        \"semantic_type\": \"\",\n        \"description\": \"\"\n      }\n    },\n    {\n      \"column\": \"Number_of_Virtual_Meetings\",\n      \"properties\": {\n        \"dtype\": \"number\",\n        \"std\": 3,\n        \"min\": 4,\n        \"max\": 12,\n        \"num_unique_values\": 5,\n        \"samples\": [\n          4,\n          12,\n          11\n        ],\n        \"semantic_type\": \"\",\n        \"description\": \"\"\n      }\n    },\n    {\n      \"column\": \"Work_Life_Balance_Rating\",\n      \"properties\": {\n        \"dtype\": \"number\",\n        \"std\": 1,\n        \"min\": 1,\n        \"max\": 5,\n        \"num_unique_values\": 4,\n        \"samples\": [\n          1,\n          4,\n          2\n        ],\n        \"semantic_type\": \"\",\n        \"description\": \"\"\n      }\n    },\n    {\n      \"column\": \"Stress_Level\",\n      \"properties\": {\n        \"dtype\": \"category\",\n        \"num_unique_values\": 2,\n        \"samples\": [\n          \"High\",\n          \"Medium\"\n        ],\n        \"semantic_type\": \"\",\n        \"description\": \"\"\n      }\n    },\n    {\n      \"column\": \"Mental_Health_Condition\",\n      \"properties\": {\n        \"dtype\": \"category\",\n        \"num_unique_values\": 2,\n        \"samples\": [\n          \"Anxiety\",\n          \"Depression\"\n        ],\n        \"semantic_type\": \"\",\n        \"description\": \"\"\n      }\n    },\n    {\n      \"column\": \"Access_to_Mental_Health_Resources\",\n      \"properties\": {\n        \"dtype\": \"category\",\n        \"num_unique_values\": 2,\n        \"samples\": [\n          \"Yes\",\n          \"No\"\n        ],\n        \"semantic_type\": \"\",\n        \"description\": \"\"\n      }\n    },\n    {\n      \"column\": \"Productivity_Change\",\n      \"properties\": {\n        \"dtype\": \"string\",\n        \"num_unique_values\": 3,\n        \"samples\": [\n          \"Decrease\",\n          \"Increase\"\n        ],\n        \"semantic_type\": \"\",\n        \"description\": \"\"\n      }\n    },\n    {\n      \"column\": \"Social_Isolation_Rating\",\n      \"properties\": {\n        \"dtype\": \"number\",\n        \"std\": 1,\n        \"min\": 1,\n        \"max\": 4,\n        \"num_unique_values\": 3,\n        \"samples\": [\n          1,\n          3\n        ],\n        \"semantic_type\": \"\",\n        \"description\": \"\"\n      }\n    },\n    {\n      \"column\": \"Satisfaction_with_Remote_Work\",\n      \"properties\": {\n        \"dtype\": \"category\",\n        \"num_unique_values\": 2,\n        \"samples\": [\n          \"Satisfied\",\n          \"Unsatisfied\"\n        ],\n        \"semantic_type\": \"\",\n        \"description\": \"\"\n      }\n    },\n    {\n      \"column\": \"Company_Support_for_Remote_Work\",\n      \"properties\": {\n        \"dtype\": \"number\",\n        \"std\": 1,\n        \"min\": 1,\n        \"max\": 5,\n        \"num_unique_values\": 4,\n        \"samples\": [\n          2,\n          3\n        ],\n        \"semantic_type\": \"\",\n        \"description\": \"\"\n      }\n    },\n    {\n      \"column\": \"Physical_Activity\",\n      \"properties\": {\n        \"dtype\": \"category\",\n        \"num_unique_values\": 1,\n        \"samples\": [\n          \"Weekly\"\n        ],\n        \"semantic_type\": \"\",\n        \"description\": \"\"\n      }\n    },\n    {\n      \"column\": \"Sleep_Quality\",\n      \"properties\": {\n        \"dtype\": \"string\",\n        \"num_unique_values\": 3,\n        \"samples\": [\n          \"Good\"\n        ],\n        \"semantic_type\": \"\",\n        \"description\": \"\"\n      }\n    },\n    {\n      \"column\": \"Region\",\n      \"properties\": {\n        \"dtype\": \"string\",\n        \"num_unique_values\": 3,\n        \"samples\": [\n          \"Europe\"\n        ],\n        \"semantic_type\": \"\",\n        \"description\": \"\"\n      }\n    }\n  ]\n}"
            }
          },
          "metadata": {},
          "execution_count": 16
        }
      ]
    },
    {
      "cell_type": "markdown",
      "source": [
        "## 2. Display 'n' Rows (3 marks)\n",
        "- Instructions: Display the first 13 rows of the dataset."
      ],
      "metadata": {
        "id": "knNIuhCoSFNx"
      }
    },
    {
      "cell_type": "code",
      "source": [
        "# Write code here"
      ],
      "metadata": {
        "id": "aojeUCP3-DlN"
      },
      "execution_count": null,
      "outputs": []
    },
    {
      "cell_type": "markdown",
      "source": [
        "- Instructions: Display the last 7 rows of the dataset"
      ],
      "metadata": {
        "id": "iNJ7GvJt-EJk"
      }
    },
    {
      "cell_type": "code",
      "source": [
        "# Write code here"
      ],
      "metadata": {
        "id": "bvxs1GHK-Iv4"
      },
      "execution_count": null,
      "outputs": []
    },
    {
      "cell_type": "markdown",
      "source": [
        "## 3. Find the Number of Null Values in the Dataset (2 mark)"
      ],
      "metadata": {
        "id": "osg640SM-ySa"
      }
    },
    {
      "cell_type": "code",
      "source": [
        "# Write code here"
      ],
      "metadata": {
        "id": "VL7WVh2x_e2u"
      },
      "execution_count": null,
      "outputs": []
    },
    {
      "cell_type": "markdown",
      "source": [
        "## 4. Statistical Summary for Numeric Columns (10 marks)\n",
        "Instructions: Use individual commands to find the statistical summary."
      ],
      "metadata": {
        "id": "FpJ9_gGH_g9Z"
      }
    },
    {
      "cell_type": "markdown",
      "source": [
        "- Count"
      ],
      "metadata": {
        "id": "8R-SXWwY_msH"
      }
    },
    {
      "cell_type": "code",
      "source": [
        "# Write code here\n"
      ],
      "metadata": {
        "id": "rdhV-VNf_gcm"
      },
      "execution_count": null,
      "outputs": []
    },
    {
      "cell_type": "markdown",
      "source": [
        "- Mean"
      ],
      "metadata": {
        "id": "3sHkuqIM_wLh"
      }
    },
    {
      "cell_type": "code",
      "source": [
        "# Write code here\n"
      ],
      "metadata": {
        "id": "MyCg6EO4_v1V"
      },
      "execution_count": null,
      "outputs": []
    },
    {
      "cell_type": "markdown",
      "source": [
        "- Standard Deviation"
      ],
      "metadata": {
        "id": "S3KSqJm2_vob"
      }
    },
    {
      "cell_type": "code",
      "source": [
        "# Write code here\n"
      ],
      "metadata": {
        "id": "sKUiXGdy_y_7"
      },
      "execution_count": null,
      "outputs": []
    },
    {
      "cell_type": "markdown",
      "source": [
        "- Quartiles"
      ],
      "metadata": {
        "id": "NvmOKMtoABPG"
      }
    },
    {
      "cell_type": "code",
      "source": [
        "# Write code here\n"
      ],
      "metadata": {
        "id": "TVThkvwx_0zt"
      },
      "execution_count": null,
      "outputs": []
    },
    {
      "cell_type": "markdown",
      "source": [
        "## 5. Calculate Extrema (2 marks)"
      ],
      "metadata": {
        "id": "kydBDNX0AWbd"
      }
    },
    {
      "cell_type": "code",
      "source": [
        "# Write code here\n"
      ],
      "metadata": {
        "id": "u6cVQN3l_0ut"
      },
      "execution_count": null,
      "outputs": []
    },
    {
      "cell_type": "markdown",
      "source": [
        "## 6. Find Unique Values in a Categorical Column (3 marks)\n",
        "\n",
        "- Instructions: Identify the unique values in the `job_role` column (2 marks)\n",
        "- Question: How many unique roles are represented in the dataset? (1 mark)"
      ],
      "metadata": {
        "id": "z9mN8HDMCreb"
      }
    },
    {
      "cell_type": "code",
      "source": [
        "# Write code here"
      ],
      "metadata": {
        "id": "WO3P27X-_0pl"
      },
      "execution_count": null,
      "outputs": []
    },
    {
      "cell_type": "markdown",
      "source": [
        "## 7. Group Data and Calculate Mean (4 marks)\n",
        "- Instructions: Group the dataset by `job_role` and calculate the mean of the `Work_Life_Balance_Rating` for each role.\n",
        "- Question: Which job role has the highest average Work life balance?"
      ],
      "metadata": {
        "id": "GnePX9mfC-6I"
      }
    },
    {
      "cell_type": "code",
      "source": [
        "# Write code here\n",
        "\n"
      ],
      "metadata": {
        "id": "FDp0ZL9R_0j1"
      },
      "execution_count": null,
      "outputs": []
    },
    {
      "cell_type": "markdown",
      "source": [
        "## 8. Filter Data Based on Condition (4 marks)\n",
        "- Instructions: Filter the dataset to show only rows where `work_hours_per_week` is greater than 40.\n",
        "- Question: How many employees are working overtime?"
      ],
      "metadata": {
        "id": "uWZZN2JGDPoQ"
      }
    },
    {
      "cell_type": "code",
      "source": [
        "# Write code here\n"
      ],
      "metadata": {
        "id": "hq77PsstDPWJ"
      },
      "execution_count": null,
      "outputs": []
    },
    {
      "cell_type": "markdown",
      "source": [
        "## 9 . Histogram of Work Hours per Week (5 marks)\n",
        "- Instructions: Create a histogram of `Hours_Worked_Per_Week` (4 marks).\n",
        "- Question: Describe the distribution of work hours. Are most employees working around a certain number of hours per week? (1 mark)"
      ],
      "metadata": {
        "id": "u6rhIsN6DzXO"
      }
    },
    {
      "cell_type": "code",
      "source": [
        "# Write code here\n"
      ],
      "metadata": {
        "id": "oxPN35Ui_0em"
      },
      "execution_count": null,
      "outputs": []
    },
    {
      "cell_type": "markdown",
      "source": [
        "## 10. Scatter Plot of Work Hours vs. Years_of_Experience (4 marks)\n",
        "- Instructions: Create a scatter plot with `Hours_Worked_Per_Week` on the x-axis and `Years_of_Experience` on the y-axis."
      ],
      "metadata": {
        "id": "atghBU1UEFja"
      }
    },
    {
      "cell_type": "code",
      "source": [
        "# Write code here\n",
        "\n"
      ],
      "metadata": {
        "id": "0vYnYIhP_0ZV"
      },
      "execution_count": null,
      "outputs": []
    },
    {
      "cell_type": "markdown",
      "source": [
        "## 11. Bar Chart of Average Work Life Balance by Job Role (5 marks)\n",
        "- Instructions: Create a bar chart showing the average `Work_Life_Balance_Rating` for each `Job_Role` (4 marks).\n",
        "- Question: Which job roles have the highest and lowest average mental Work Life Balance? (1 mark)"
      ],
      "metadata": {
        "id": "SRu7LPAYEOjw"
      }
    },
    {
      "cell_type": "code",
      "source": [
        "# Write code here\n"
      ],
      "metadata": {
        "id": "hshPHrEJ_0TL"
      },
      "execution_count": null,
      "outputs": []
    },
    {
      "cell_type": "markdown",
      "source": [
        "## 12. Pie Chart of Workload Level Distribution (5 marks)\n",
        "- Instructions: Use a pie chart to show the proportion of `Access_to_Mental_Health_Resources` (Yes and no) in the dataset (4 marks).\n",
        "- Question: What percentage of employees have access to mental health resources? (1 mark)"
      ],
      "metadata": {
        "id": "ZT4ReqO1EWyJ"
      }
    },
    {
      "cell_type": "code",
      "source": [
        "# Write code here\n",
        "\n"
      ],
      "metadata": {
        "id": "loB1n-fe_0Lj"
      },
      "execution_count": null,
      "outputs": []
    },
    {
      "cell_type": "markdown",
      "source": [
        "## 13. Scatter Plot of Age vs. Social Isolation Rating (6 marks)\n",
        "- Instructions: Create a scatter plot with `age` on the x-axis and `Social_Isolation_Rating` on the y-axis (4 marks).\n",
        "- Question: Do you observe any trends or relationships between age and social isolation? Is there a noticeable impact of age on isoloation? (2 marks)"
      ],
      "metadata": {
        "id": "huTl0I35Eeta"
      }
    },
    {
      "cell_type": "code",
      "source": [
        "# Write code here\n"
      ],
      "metadata": {
        "id": "_XG_OCnC_0Do"
      },
      "execution_count": null,
      "outputs": []
    },
    {
      "cell_type": "markdown",
      "source": [
        "# Section 3 - Long Answer/Advanced (20%)\n",
        "\n"
      ],
      "metadata": {
        "id": "gegyzqphE2_G"
      }
    },
    {
      "cell_type": "markdown",
      "source": [
        "## Job Role and Workload Level Impact on Mental Health\n",
        "\n",
        "Instructions: Investigate the influence of job roles and workload level on the mental health.\n",
        "- Create a new column `workload_level` that labels each entry as \"High\" if the `Hours_Worked_Per_Week` is above its mean, otherwise \"Low.\" (5 marks)\n",
        "- Group the dataset by `Industry` and calculate the average `Hours_Worked_Per_Week` for each combination. (5 marks)\n",
        "- Use a bar chart to display the average `Stress_Level` for each job role, with separate bars for high and low stress levels. (5 marks)\n",
        "- Analyze the results: Which job roles and workload levels appear to have the greatest impact on mental health? (5 marks)\n"
      ],
      "metadata": {
        "id": "pK8L8R23FALn"
      }
    },
    {
      "cell_type": "code",
      "source": [
        "# Write code here"
      ],
      "metadata": {
        "id": "UeHUHXrK_z5d"
      },
      "execution_count": null,
      "outputs": []
    }
  ]
}